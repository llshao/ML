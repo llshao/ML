{
 "cells": [
  {
   "cell_type": "code",
   "execution_count": 36,
   "metadata": {},
   "outputs": [
    {
     "name": "stdout",
     "output_type": "stream",
     "text": [
      "Automatically created module for IPython interactive environment\n"
     ]
    }
   ],
   "source": [
    "# read CT imaging\n",
    "import numpy as np\n",
    "import matplotlib.pyplot as plt\n",
    "%matplotlib inline\n",
    "import pydicom\n",
    "from pydicom.data import get_testdata_files\n",
    "#plt.rcParams['figure.figsize'] = [32, 20]\n",
    "print(__doc__)"
   ]
  },
  {
   "cell_type": "code",
   "execution_count": 55,
   "metadata": {},
   "outputs": [],
   "source": [
    "def plot_ct(dataset):\n",
    "    # Normal mode:\n",
    "    print()\n",
    "    #print(\"Filename.........:\", filename)\n",
    "    print(\"Storage type.....:\", dataset.SOPClassUID)\n",
    "    print()\n",
    "    \n",
    "    pat_name = dataset.PatientName\n",
    "    display_name = pat_name.family_name + \", \" + pat_name.given_name\n",
    "    print(\"Patient's name...:\", display_name)\n",
    "    print(\"Patient id.......:\", dataset.PatientID)\n",
    "    print(\"Modality.........:\", dataset.Modality)\n",
    "    print(\"Study Date.......:\", dataset.StudyDate)\n",
    "\n",
    "    if 'PixelData' in dataset:\n",
    "        rows = int(dataset.Rows)\n",
    "        cols = int(dataset.Columns)\n",
    "        print(\"Image size.......: {rows:d} x {cols:d}, {size:d} bytes\".format(\n",
    "            rows=rows, cols=cols, size=len(dataset.PixelData)))\n",
    "        if 'PixelSpacing' in dataset:\n",
    "            print(\"Pixel spacing....:\", dataset.PixelSpacing)\n",
    "\n",
    "    # use .get() if not sure the item exists, and want a default value if missing\n",
    "    print(\"Slice location...:\", dataset.get('SliceLocation', \"(missing)\"))\n",
    "    fig = plt.figure(figsize=(16,10))\n",
    "    # plot the image using matplotlib\n",
    "    ax = fig.add_subplot(211)\n",
    "    ax.imshow(dataset.pixel_array, cmap=plt.cm.bone)\n",
    "    ax = fig.add_subplot(212)\n",
    "    ax.hist(dataset.pixel_array[::])"
   ]
  },
  {
   "cell_type": "code",
   "execution_count": 88,
   "metadata": {},
   "outputs": [],
   "source": [
    "def find_by_location(data_all, slide_location, index, margin = 2.0):\n",
    "    if index < 4:\n",
    "        data_all, path_all, _, _ = data_all\n",
    "    else:\n",
    "        _, _, data_all, path_all = data_all\n",
    "        index = index % 4\n",
    "    location = []\n",
    "    i = 0\n",
    "    while not location or location == 'missing' or abs(float(location)-slide_location) > margin:\n",
    "        if i >= len(data_all[index]):\n",
    "            i = 0\n",
    "            margin += 1\n",
    "        dataset = pydicom.dcmread(join(path_all[index], data_all[index][i]))\n",
    "        # get the slide location of the all patients and get others with similar slide location\n",
    "        location = dataset.get('SliceLocation', \"(missing)\")\n",
    "        i += 1\n",
    "    return dataset, location"
   ]
  },
  {
   "cell_type": "code",
   "execution_count": 123,
   "metadata": {},
   "outputs": [],
   "source": [
    "def pairwise_plot_ct(data_all, slide_location = [], random = True):\n",
    "    '''\n",
    "    subplot 8x2 => 4 normal dose/ 4 low dose with hist as well\n",
    "    same slice location(diff in loc < 2)\n",
    "    params:\n",
    "    data_all: std_data_all, std_path_all, low_data_all, low_path_all\n",
    "    random: True/False for random sampling\n",
    "    '''\n",
    "    # unpack data\n",
    "    std_data_all, std_path_all, low_data_all, low_path_all = data_all\n",
    "    # random pick on index from firs patient\n",
    "    index = np.random.randint(low=0, high=len(std_data_all[0]))\n",
    "    while not slide_location or slide_location == 'missing':\n",
    "        dataset = pydicom.dcmread(join(low_path_all[2], low_data_all[2][index]))\n",
    "        # get the slide location of the first patient and get others with similar slide location\n",
    "        slide_location = dataset.get('SliceLocation', \"(missing)\")\n",
    "    fig = plt.figure(figsize=(20,40))\n",
    "    print('ref location', slide_location)\n",
    "    for i in range(1, 9):\n",
    "        # get the data by given slide location\n",
    "        if i < 7:\n",
    "            dataset, location = find_by_location(data_all, float(slide_location), i-1)\n",
    "        else:\n",
    "            dataset, location = find_by_location(data_all, float(slide_location)-180, i-1)\n",
    "        print('slide location', location)\n",
    "        ax = fig.add_subplot(8, 2, 2*i-1)\n",
    "        #ax.text(0.5, 0.5, str((8, 2, i)),fontsize=18, ha='center')\n",
    "            # plot the image using matplotlib\n",
    "        ax.imshow(dataset.pixel_array, cmap=plt.cm.bone)\n",
    "        # histn plot of each pixel\n",
    "        ax = fig.add_subplot(8,2,2*i)\n",
    "        ax.hist(dataset.pixel_array[::], bins = 200)"
   ]
  },
  {
   "cell_type": "code",
   "execution_count": 50,
   "metadata": {},
   "outputs": [
    {
     "data": {
      "application/javascript": [
       "IPython.OutputArea.prototype._should_scroll = function(lines) {\n",
       "    return false;\n",
       "}\n"
      ],
      "text/plain": [
       "<IPython.core.display.Javascript object>"
      ]
     },
     "metadata": {},
     "output_type": "display_data"
    }
   ],
   "source": [
    "%%javascript\n",
    "IPython.OutputArea.prototype._should_scroll = function(lines) {\n",
    "    return false;\n",
    "}"
   ]
  },
  {
   "cell_type": "code",
   "execution_count": null,
   "metadata": {},
   "outputs": [
    {
     "name": "stdout",
     "output_type": "stream",
     "text": [
      "ref location 50\n",
      "slide location 48.63\n",
      "slide location 49.71\n",
      "slide location 48.57\n",
      "slide location 50.5\n",
      "slide location 49.8\n",
      "slide location 51.09\n",
      "slide location -131.105\n",
      "slide location -130.500\n"
     ]
    }
   ],
   "source": [
    "pairwise_plot_ct(data_all, slide_location = 50, random = True)"
   ]
  },
  {
   "cell_type": "code",
   "execution_count": 2,
   "metadata": {},
   "outputs": [],
   "source": [
    "from os import listdir\n",
    "from os.path import isfile, join\n",
    "def load_data(path = ''):\n",
    "\n",
    "        # reading files from folders\n",
    "        filenames = [f for f in listdir(path) if isfile(join(path, f))]\n",
    "        return filenames\n",
    "def load_data_dfs(path = '', depth = 0, data_all = [], path_all= []):\n",
    "        # reading files from folders\n",
    "        if depth == 0:\n",
    "            filenames = [f for f in listdir(path) if isfile(join(path, f))]\n",
    "            data_all.append(filenames)\n",
    "            path_all.append(path)\n",
    "            return\n",
    "        for f in listdir(path):\n",
    "            load_data_dfs(join(path, f), depth - 1, data_all, path_all)\n",
    "        return"
   ]
  },
  {
   "cell_type": "code",
   "execution_count": 94,
   "metadata": {},
   "outputs": [],
   "source": [
    "low_data_all = []\n",
    "low_path_all = []\n",
    "low_path = '/Users/ningxin/Dropbox/Research/FHE_Meeting5th/CT/Low/'\n",
    "load_data_dfs(low_path, 2, low_data_all, low_path_all)"
   ]
  },
  {
   "cell_type": "code",
   "execution_count": 102,
   "metadata": {},
   "outputs": [],
   "source": [
    "std_data_all = []\n",
    "std_path_all = []\n",
    "std_path = '/Users/ningxin/Dropbox/Research/FHE_Meeting5th/CT/High/'\n",
    "load_data_dfs(std_path, 2, std_data_all, std_path_all)"
   ]
  },
  {
   "cell_type": "code",
   "execution_count": 103,
   "metadata": {},
   "outputs": [],
   "source": [
    "data_all = std_data_all, std_path_all, low_data_all, low_path_all"
   ]
  }
 ],
 "metadata": {
  "kernelspec": {
   "display_name": "Python 3",
   "language": "python",
   "name": "python3"
  },
  "language_info": {
   "codemirror_mode": {
    "name": "ipython",
    "version": 3
   },
   "file_extension": ".py",
   "mimetype": "text/x-python",
   "name": "python",
   "nbconvert_exporter": "python",
   "pygments_lexer": "ipython3",
   "version": "3.7.4"
  }
 },
 "nbformat": 4,
 "nbformat_minor": 4
}
